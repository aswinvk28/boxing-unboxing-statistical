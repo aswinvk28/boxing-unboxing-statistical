{
 "cells": [
  {
   "cell_type": "code",
   "execution_count": 1,
   "metadata": {},
   "outputs": [],
   "source": [
    "import math\n",
    "import numpy as np\n",
    "from six.moves import xrange\n",
    "import tensorflow as tf\n",
    "\n",
    "import tensorflow_constrained_optimization as tfco"
   ]
  },
  {
   "cell_type": "code",
   "execution_count": 2,
   "metadata": {},
   "outputs": [],
   "source": [
    "np.random.seed(10)\n",
    "\n",
    "def predictions():\n",
    "    return tf.tensordot(yro, mean_r, axes=(1, 0)) - threshold\n",
    "\n",
    "num_examples = 1000\n",
    "num_mislabeled_examples = 200\n",
    "dimension = 10\n",
    "\n",
    "recall_lower_bound = 0.9\n",
    "\n",
    "# Create random \"ground truth\" parameters for a linear model.\n",
    "input_weights = np.random.normal(size=dimension) / math.sqrt(dimension)\n",
    "ground_truth_threshold = 0.9\n",
    "\n",
    "mean_r = tf.Variable(tf.zeros(dimension), dtype=tf.float32, name=\"weights\")\n",
    "threshold = tf.Variable(0.0, dtype=tf.float32, name=\"threshold\")\n",
    "\n",
    "input_data = np.random.normal(size=(num_examples, dimension)).astype(\n",
    "    np.float32) / math.sqrt(dimension)\n",
    "\n",
    "labels = (np.matmul(input_data, input_weights) >\n",
    "          ground_truth_threshold).astype(np.float32)\n",
    "# Add noise by randomly flipping num_mislabeled_examples labels.\n",
    "mislabeled_indices = np.random.choice(\n",
    "    num_examples, num_mislabeled_examples, replace=False)\n",
    "labels[mislabeled_indices] = 1 - labels[mislabeled_indices]\n",
    "\n",
    "constant_labels = tf.constant(labels, dtype=tf.float32)\n",
    "constant_input = tf.constant(input_data, dtype=tf.float32)\n",
    "yro = constant_input\n",
    "\n",
    "context = tfco.rate_context(predictions, labels=lambda: constant_labels)\n",
    "problem = tfco.RateMinimizationProblem(\n",
    "    tfco.error_rate(context), [tfco.recall(context) >= recall_lower_bound])"
   ]
  },
  {
   "cell_type": "code",
   "execution_count": 3,
   "metadata": {},
   "outputs": [],
   "source": [
    "class ExampleProblem(tfco.ConstrainedMinimizationProblem):\n",
    "    def __init__(self, labels, predictions, recall_lower_bound):\n",
    "        self._labels = labels\n",
    "        self._predictions = predictions\n",
    "        self._recall_lower_bound = recall_lower_bound\n",
    "        # The number of positively-labeled examples.\n",
    "        self._positive_count = tf.reduce_sum(self._labels)\n",
    "\n",
    "    @property\n",
    "    def num_constraints(self):\n",
    "        return 1\n",
    "    \n",
    "    # we use hinge loss because we need to capture those that are not classified correctly and minimize that loss\n",
    "    def objective(self):\n",
    "        predictions = self._predictions\n",
    "        if callable(predictions):\n",
    "            predictions = predictions()\n",
    "        return tf.compat.v1.losses.hinge_loss(labels=self._labels,\n",
    "          logits=predictions)\n",
    "    \n",
    "    def constraints(self):\n",
    "        # In eager mode, the predictions must be a nullary function returning a\n",
    "        # Tensor. In graph mode, they could be either such a function, or a Tensor\n",
    "        # itself.\n",
    "        predictions = self._predictions\n",
    "        if callable(predictions):\n",
    "            predictions = predictions()\n",
    "        # Recall that the labels are binary (0 or 1).\n",
    "        true_positives = self._labels * tf.cast(predictions > 0, dtype=tf.float32)\n",
    "        true_positive_count = tf.reduce_sum(true_positives)\n",
    "        recall = true_positive_count / self._positive_count\n",
    "        # The constraint is (recall >= self._recall_lower_bound), which we convert\n",
    "        # to (self._recall_lower_bound - recall <= 0) because\n",
    "        # ConstrainedMinimizationProblems must always provide their constraints in\n",
    "        # the form (tensor <= 0).\n",
    "        #\n",
    "        # The result of this function should be a tensor, with each element being\n",
    "        # a quantity that is constrained to be non-positive. We only have one\n",
    "        # constraint, so we return a one-element tensor.\n",
    "        return self._recall_lower_bound - recall\n",
    "    \n",
    "    def proxy_constraints(self):\n",
    "        # In eager mode, the predictions must be a nullary function returning a\n",
    "        # Tensor. In graph mode, they could be either such a function, or a Tensor\n",
    "        # itself.\n",
    "        predictions = self._predictions\n",
    "        if callable(predictions):\n",
    "            predictions = predictions()\n",
    "        # Use 1 - hinge since we're SUBTRACTING recall in the constraint function,\n",
    "        # and we want the proxy constraint function to be convex. Recall that the\n",
    "        # labels are binary (0 or 1).\n",
    "        true_positives = self._labels * tf.minimum(1.0, predictions)\n",
    "        true_positive_count = tf.reduce_sum(true_positives)\n",
    "        recall = true_positive_count / self._positive_count\n",
    "        # Please see the corresponding comment in the constraints property.\n",
    "        return self._recall_lower_bound - recall\n",
    "\n",
    "problem = ExampleProblem(\n",
    "    labels=constant_labels,\n",
    "    predictions=predictions,\n",
    "    recall_lower_bound=recall_lower_bound,\n",
    ")"
   ]
  },
  {
   "cell_type": "code",
   "execution_count": 4,
   "metadata": {},
   "outputs": [],
   "source": [
    "def average_hinge_loss(labels, predictions):\n",
    "    # Recall that the labels are binary (0 or 1).\n",
    "    signed_labels = (labels * 2) - 1\n",
    "    return np.mean(np.maximum(0.0, 1.0 - signed_labels * predictions))\n",
    "\n",
    "def recall(labels, predictions):\n",
    "    # Recall that the labels are binary (0 or 1).\n",
    "    positive_count = np.sum(labels)\n",
    "    true_positives = labels * (predictions > 0)\n",
    "    true_positive_count = np.sum(true_positives)\n",
    "    return true_positive_count / positive_count"
   ]
  },
  {
   "cell_type": "code",
   "execution_count": 5,
   "metadata": {},
   "outputs": [
    {
     "name": "stdout",
     "output_type": "stream",
     "text": [
      "Constrained average hinge loss = 1.185147\n",
      "Constrained recall = 0.845000\n"
     ]
    }
   ],
   "source": [
    "if tf.executing_eagerly():\n",
    "    # In eager mode, we use a V2 optimizer (a tf.keras.optimizers.Optimizer). A V1\n",
    "    # optimizer, however, would work equally well.\n",
    "    optimizer = tfco.ProxyLagrangianOptimizerV2(\n",
    "      optimizer=tf.keras.optimizers.Adagrad(learning_rate=1.0),\n",
    "      num_constraints=problem.num_constraints)\n",
    "    # In addition to the model parameters (weights and threshold), we also need to\n",
    "    # optimize over any trainable variables associated with the problem (e.g.\n",
    "    # implicit slack variables and weight denominators), and those associated with\n",
    "    # the optimizer (the analogues of the Lagrange multipliers used by the\n",
    "    # proxy-Lagrangian formulation).\n",
    "    var_list = ([mean_r, threshold] + problem.trainable_variables +\n",
    "              optimizer.trainable_variables())\n",
    "\n",
    "    for ii in xrange(1000):\n",
    "        optimizer.minimize(problem, var_list=var_list)\n",
    "\n",
    "    trained_weights = mean_r.numpy()\n",
    "    trained_threshold = threshold.numpy()\n",
    "\n",
    "else:  # We're in graph mode.\n",
    "    # In graph mode, we use a V1 optimizer (a tf.compat.v1.train.Optimizer). A V2\n",
    "    # optimizer, however, would work equally well.\n",
    "    optimizer = tfco.ProxyLagrangianOptimizerV1(\n",
    "      optimizer=tf.compat.v1.train.AdagradOptimizer(learning_rate=1.0))\n",
    "    train_op = optimizer.minimize(problem)\n",
    "\n",
    "    with tf.Session() as session:\n",
    "        session.run(tf.global_variables_initializer())\n",
    "        for ii in xrange(1000):\n",
    "            session.run(train_op)\n",
    "\n",
    "        trained_weights, trained_threshold = session.run((weights, threshold))\n",
    "\n",
    "trained_predictions = np.matmul(input_data, trained_weights) - trained_threshold\n",
    "print(\"Constrained average hinge loss = %f\" % average_hinge_loss(\n",
    "    labels, trained_predictions))\n",
    "print(\"Constrained recall = %f\" % recall(labels, trained_predictions))"
   ]
  },
  {
   "cell_type": "code",
   "execution_count": 6,
   "metadata": {},
   "outputs": [
    {
     "data": {
      "text/plain": [
       "<AxesSubplot:>"
      ]
     },
     "execution_count": 6,
     "metadata": {},
     "output_type": "execute_result"
    },
    {
     "data": {
      "image/png": "[encoded data removed]",
      "text/plain": [
       "<Figure size 432x288 with 2 Axes>"
      ]
     },
     "metadata": {
      "needs_background": "light"
     },
     "output_type": "display_data"
    }
   ],
   "source": [
    "import seaborn\n",
    "seaborn.heatmap(yro.numpy())"
   ]
  }
 ],
 "metadata": {
  "kernelspec": {
   "display_name": "Python 3",
   "language": "python",
   "name": "python3"
  },
  "language_info": {
   "codemirror_mode": {
    "name": "ipython",
    "version": 3
   },
   "file_extension": ".py",
   "mimetype": "text/x-python",
   "name": "python",
   "nbconvert_exporter": "python",
   "pygments_lexer": "ipython3",
   "version": "3.6.9"
  }
 },
 "nbformat": 4,
 "nbformat_minor": 4
}
