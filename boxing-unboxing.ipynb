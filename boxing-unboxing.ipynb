{
 "cells": [
  {
   "cell_type": "code",
   "execution_count": 4,
   "metadata": {},
   "outputs": [],
   "source": [
    "import numpy as np\n",
    "from copy import copy\n",
    "import cvxpy as cvx\n",
    "from sklearn.decomposition import PCA\n",
    "from sklearn.preprocessing import MinMaxScaler\n",
    "from tqdm import tqdm\n",
    "import imageio\n",
    "from sklearn.svm import SVR, LinearSVR\n",
    "from sklearn.model_selection import GridSearchCV\n",
    "import pandas as pd\n",
    "import seaborn\n",
    "import scipy\n",
    "from sklearn.metrics import mean_squared_error\n",
    "from sklearn.preprocessing import MinMaxScaler"
   ]
  },
  {
   "cell_type": "code",
   "execution_count": 59,
   "metadata": {},
   "outputs": [
    {
     "name": "stdout",
     "output_type": "stream",
     "text": [
      "WARN: m less than n, problem likely degenerate\n",
      "----------------------------------------------------------------------------\n",
      "\tSCS v2.1.2 - Splitting Conic Solver\n",
      "\t(c) Brendan O'Donoghue, Stanford University, 2012\n",
      "----------------------------------------------------------------------------\n",
      "Lin-sys: sparse-direct, nnz in A = 24400\n",
      "eps = 1.00e-04, alpha = 1.50, max_iters = 1000, normalize = 1, scale = 1.00\n",
      "acceleration_lookback = 0, rho_x = 1.00e-03\n",
      "Variables n = 12200, constraints m = 12002\n",
      "Cones:\tprimal zero / dual free vars: 1\n",
      "\tlinear vars: 12001\n",
      "WARN: aa_init returned NULL, no acceleration applied.\n",
      "Setup time: 3.86e-02s\n",
      "----------------------------------------------------------------------------\n",
      " Iter | pri res | dua res | rel gap | pri obj | dua obj | kap/tau | time (s)\n",
      "----------------------------------------------------------------------------\n",
      "     0| 2.58e+05  6.86e+01  1.12e-01 -1.26e-01  2.04e-06  2.75e-17  3.08e-02 \n",
      "   100| 1.33e+03  4.63e-01  2.77e-06  2.77e-06  2.69e-11  2.18e-18  1.15e-01 \n",
      "   200| 1.26e+03  4.51e-01  1.01e-07 -1.01e-07  1.14e-11  1.87e-19  2.07e-01 \n",
      "   300| 1.32e+03  4.71e-01  2.58e-07  2.58e-07  1.72e-11  9.76e-19  3.02e-01 \n",
      "   400| 1.29e+03  4.60e-01  1.12e-08  1.12e-08  1.33e-11  1.85e-19  3.82e-01 \n",
      "   500| 1.27e+03  4.53e-01  4.38e-08  4.39e-08  1.36e-11  9.73e-19  4.77e-01 \n",
      "   600| 1.40e-02  3.76e-11  2.97e-10 -2.84e-10  1.30e-11  1.85e-19  5.58e-01 \n",
      "   700| 3.36e-02  3.75e-11  7.01e-10 -6.88e-10  1.30e-11  2.13e-18  6.56e-01 \n",
      "   800| 5.30e-02  3.75e-11  1.10e-09 -1.09e-09  1.30e-11  1.86e-19  7.52e-01 \n",
      "   900| 7.24e-02  3.73e-11  1.51e-09 -1.49e-09  1.29e-11  2.14e-18  8.33e-01 \n",
      "  1000| 9.16e-02  3.73e-11  1.90e-09 -1.89e-09  1.28e-11  1.88e-19  9.11e-01 \n",
      "----------------------------------------------------------------------------\n",
      "Status: Solved/Inaccurate\n",
      "Hit max_iters, solution may be inaccurate, returning best found solution.\n",
      "Timing: Solve time: 9.12e-01s\n",
      "\tLin-sys: nnz in L factor: 60603, avg solve time: 3.80e-04s\n",
      "\tCones: avg projection time: 1.20e-05s\n",
      "\tAcceleration: avg step time: 2.31e-07s\n",
      "----------------------------------------------------------------------------\n",
      "Error metrics:\n",
      "dist(s, K) = 7.1601e-25, dist(y, K*) = 0.0000e+00, s'y/|s||y| = -4.1591e-13\n",
      "primal res: |Ax + s - b|_2 / (1 + |b|_2) = 6.2146e-03\n",
      "dual res:   |A'y + c|_2 / (1 + |c|_2) = 5.2267e-10\n",
      "rel gap:    |c'x + b'y| / (1 + |c'x| + |b'y|) = 1.3554e-10\n",
      "----------------------------------------------------------------------------\n",
      "c'x = -0.0000, -b'y = 0.0000\n",
      "============================================================================\n",
      "WARN: m less than n, problem likely degenerate\n",
      "----------------------------------------------------------------------------\n",
      "\tSCS v2.1.2 - Splitting Conic Solver\n",
      "\t(c) Brendan O'Donoghue, Stanford University, 2012\n",
      "----------------------------------------------------------------------------\n",
      "Lin-sys: sparse-direct, nnz in A = 24400\n",
      "eps = 1.00e-04, alpha = 1.50, max_iters = 1000, normalize = 1, scale = 1.00\n",
      "acceleration_lookback = 0, rho_x = 1.00e-03\n",
      "Variables n = 12200, constraints m = 12002\n",
      "Cones:\tprimal zero / dual free vars: 1\n",
      "\tlinear vars: 12001\n",
      "WARN: aa_init returned NULL, no acceleration applied.\n",
      "Setup time: 4.02e-02s\n",
      "----------------------------------------------------------------------------\n",
      " Iter | pri res | dua res | rel gap | pri obj | dua obj | kap/tau | time (s)\n",
      "----------------------------------------------------------------------------\n",
      "     0| 2.58e+05  6.86e+01  1.12e-01 -1.26e-01  2.04e-06  2.75e-17  3.42e-02 \n",
      "   100| 1.33e+03  4.63e-01  2.77e-06  2.77e-06  2.69e-11  2.18e-18  1.45e-01 \n",
      "   200| 1.26e+03  4.51e-01  1.01e-07 -1.01e-07  1.14e-11  1.87e-19  2.40e-01 \n",
      "   300| 1.32e+03  4.71e-01  2.58e-07  2.58e-07  1.72e-11  9.76e-19  3.28e-01 \n",
      "   400| 1.29e+03  4.60e-01  1.12e-08  1.12e-08  1.33e-11  1.85e-19  4.21e-01 \n",
      "   500| 1.27e+03  4.53e-01  4.38e-08  4.39e-08  1.36e-11  9.73e-19  5.08e-01 \n",
      "   600| 1.40e-02  3.76e-11  2.97e-10 -2.84e-10  1.30e-11  1.85e-19  5.94e-01 \n",
      "   700| 3.36e-02  3.75e-11  7.01e-10 -6.88e-10  1.30e-11  2.13e-18  6.86e-01 \n",
      "   800| 5.30e-02  3.75e-11  1.10e-09 -1.09e-09  1.30e-11  1.86e-19  7.74e-01 \n",
      "   900| 7.24e-02  3.73e-11  1.51e-09 -1.49e-09  1.29e-11  2.14e-18  8.61e-01 \n",
      "  1000| 9.16e-02  3.73e-11  1.90e-09 -1.89e-09  1.28e-11  1.88e-19  9.52e-01 \n",
      "----------------------------------------------------------------------------\n",
      "Status: Solved/Inaccurate\n",
      "Hit max_iters, solution may be inaccurate, returning best found solution.\n",
      "Timing: Solve time: 9.53e-01s\n",
      "\tLin-sys: nnz in L factor: 60603, avg solve time: 3.93e-04s\n",
      "\tCones: avg projection time: 1.38e-05s\n",
      "\tAcceleration: avg step time: 1.50e-07s\n",
      "----------------------------------------------------------------------------\n",
      "Error metrics:\n",
      "dist(s, K) = 7.1601e-25, dist(y, K*) = 0.0000e+00, s'y/|s||y| = -4.1591e-13\n",
      "primal res: |Ax + s - b|_2 / (1 + |b|_2) = 6.2146e-03\n",
      "dual res:   |A'y + c|_2 / (1 + |c|_2) = 5.2267e-10\n",
      "rel gap:    |c'x + b'y| / (1 + |c'x| + |b'y|) = 1.3554e-10\n",
      "----------------------------------------------------------------------------\n",
      "c'x = -0.0000, -b'y = 0.0000\n",
      "============================================================================\n",
      "f_value:  10.364759124954523\n"
     ]
    }
   ],
   "source": [
    "np.random.seed(10)\n",
    "large_df = pd.DataFrame(columns=['problem_value', 'mean_r.value'])\n",
    "# f-statistic\n",
    "# fstat = np.random.uniform(1,100,(144,4))\n",
    "# cov = np.random.uniform(1,100,(10,4))\n",
    "inputs_ = np.random.normal(1,20,200)\n",
    "inputs = inputs_.copy()\n",
    "# corr, corr2 = pd.DataFrame(np.random.uniform(1,100,(200,100))), pd.DataFrame(np.random.uniform(1,100,(120,100)))\n",
    "# chi-squared\n",
    "# corr, corr2 = None, None\n",
    "# corr, corr2 = pd.DataFrame(np.random.uniform(1,3,(120,120))), pd.DataFrame(np.random.uniform(1,3,(120,120)))\n",
    "# mahalanobis\n",
    "corr, corr2 = pd.DataFrame(np.random.uniform(1,100,(120,120))), pd.DataFrame(np.random.uniform(1,100,(120,120)))\n",
    "# input_index = corr2.index.astype(np.int64).values\n",
    "# f-statistic\n",
    "# yrj = np.matmul(corr2.T.corr('spearman').replace(np.nan, 0).values,corr2.values) # 144 x 4\n",
    "# chi-squared\n",
    "# yrj = corr.values * corr2.values # 144 x 144\n",
    "# mahalanobis\n",
    "yrj = np.sqrt(np.square(np.matmul(corr.T.values,np.linalg.inv(np.cov(corr2.T.values)), corr.values))) # 144 x 144\n",
    "mean_r = cvx.Variable((corr2.values.shape[0],100))\n",
    "yro = corr2.values\n",
    "xio = inputs\n",
    "xij = np.random.normal(1,100,(200,100))\n",
    "vi = cvx.Variable((inputs.shape[0],1))\n",
    "objective = cvx.Minimize(cvx.sum(cvx.matmul(mean_r.T, yro)))\n",
    "constraints = [(cvx.sum(cvx.matmul(xij.T,vi).T)-cvx.sum(cvx.matmul(mean_r.T, yrj))) <= 0,\n",
    "               mean_r >= 0,cvx.matmul(vi.T, xio)==1]\n",
    "problem = cvx.Problem(objective, constraints)\n",
    "problem.solve(verbose=True, solver=cvx.SCS, max_iters=1000)\n",
    "df = pd.DataFrame(mean_r.value, columns=np.arange(mean_r.value.shape[1]))\n",
    "df['problem_value'] = [problem.value]*mean_r.value.shape[0]\n",
    "# df['corr2_index'] = input_index\n",
    "large_df = pd.concat([large_df,df], axis=0)\n",
    "large_df = large_df.reset_index()\n",
    "\n",
    "# seaborn.distplot(inputs_)\n",
    "\n",
    "## f statistical value\n",
    "\n",
    "f_value = 0.0\n",
    "between_group = 4 * ((yro.mean(axis=0) - yro.mean())**2).sum() * 4 / 3\n",
    "within_group = xio.var(axis=0).sum() * 10/(10-1)\n",
    "f_value = between_group / within_group\n",
    "print(\"f_value: \", f_value)"
   ]
  },
  {
   "cell_type": "code",
   "execution_count": 62,
   "metadata": {},
   "outputs": [
    {
     "data": {
      "text/plain": [
       "<AxesSubplot:>"
      ]
     },
     "execution_count": 62,
     "metadata": {},
     "output_type": "execute_result"
    },
    {
     "data": {
      "image/png": "[encoded data removed]",
      "text/plain": [
       "<Figure size 432x288 with 2 Axes>"
      ]
     },
     "metadata": {
      "needs_background": "light"
     },
     "output_type": "display_data"
    }
   ],
   "source": [
    "seaborn.heatmap(m[:,:,0])"
   ]
  },
  {
   "cell_type": "code",
   "execution_count": 63,
   "metadata": {},
   "outputs": [
    {
     "data": {
      "text/plain": [
       "<AxesSubplot:>"
      ]
     },
     "execution_count": 63,
     "metadata": {},
     "output_type": "execute_result"
    },
    {
     "data": {
      "image/png": "[encoded data removed]",
      "text/plain": [
       "<Figure size 432x288 with 2 Axes>"
      ]
     },
     "metadata": {
      "needs_background": "light"
     },
     "output_type": "display_data"
    }
   ],
   "source": [
    "seaborn.heatmap(m[:,:,1])"
   ]
  },
  {
   "cell_type": "code",
   "execution_count": 64,
   "metadata": {},
   "outputs": [
    {
     "data": {
      "text/plain": [
       "<AxesSubplot:>"
      ]
     },
     "execution_count": 64,
     "metadata": {},
     "output_type": "execute_result"
    },
    {
     "data": {
      "image/png": "[encoded data removed]",
      "text/plain": [
       "<Figure size 432x288 with 2 Axes>"
      ]
     },
     "metadata": {
      "needs_background": "light"
     },
     "output_type": "display_data"
    }
   ],
   "source": [
    "seaborn.heatmap(m[:,:,2])"
   ]
  },
  {
   "cell_type": "code",
   "execution_count": null,
   "metadata": {},
   "outputs": [],
   "source": [
    "seaborn.distplot(vi.value)"
   ]
  },
  {
   "cell_type": "code",
   "execution_count": null,
   "metadata": {},
   "outputs": [],
   "source": [
    "f_value = 0.0\n",
    "between_group = 4 * ((yro.mean(axis=0) - yro.mean())**2).sum() * 4 / 3\n",
    "within_group = xio.var(axis=0).sum() * 10/(10-1)\n",
    "f_value = between_group / within_group\n",
    "import matplotlib.pyplot as plt\n",
    "plt.title(\"f_value: \" + str(f_value))\n",
    "seaborn.distplot(mean_r.value)"
   ]
  },
  {
   "cell_type": "code",
   "execution_count": null,
   "metadata": {},
   "outputs": [],
   "source": [
    "# alternative hypothesis saying it is dependent between input and DMU (s)\n",
    "chi_value = 0.0\n",
    "observed = xio.reshape(-1,1)\n",
    "expected = xij\n",
    "chi_value = ((observed - expected)**2 / expected).sum() * 1 / 4\n",
    "import matplotlib.pyplot as plt\n",
    "plt.title(\"chi_value: \" + str(chi_value))\n",
    "seaborn.distplot(mean_r.value)"
   ]
  },
  {
   "cell_type": "code",
   "execution_count": null,
   "metadata": {},
   "outputs": [],
   "source": [
    "t_score = (yro.mean() - xio.mean()) / (yro.std()*144/143)\n",
    "import matplotlib.pyplot as plt\n",
    "plt.title(\"t_score: \" + str(t_score))\n",
    "seaborn.distplot(mean_r.value)"
   ]
  },
  {
   "cell_type": "code",
   "execution_count": null,
   "metadata": {},
   "outputs": [],
   "source": [
    "f_value = 0.0\n",
    "between_group = 4 * ((yro.mean(axis=0) - yro.mean())**2).sum() * 4 / 3\n",
    "within_group = xio.var(axis=0).sum() * 10/(10-1)\n",
    "f_value = between_group / within_group\n",
    "import matplotlib.pyplot as plt\n",
    "plt.title(\"f_value: \" + str(f_value))\n",
    "seaborn.distplot(large_df['mean_r.value'])"
   ]
  },
  {
   "cell_type": "code",
   "execution_count": null,
   "metadata": {},
   "outputs": [],
   "source": [
    "# alternative hypothesis saying it is dependent between input and DMU (s)\n",
    "chi_value = 0.0\n",
    "observed = xio.reshape(-1,1)\n",
    "expected = xij\n",
    "chi_value = ((observed - expected)**2 / expected).sum() * 1 / 4\n",
    "import matplotlib.pyplot as plt\n",
    "plt.title(\"chi_value: \" + str(chi_value))\n",
    "seaborn.distplot(large_df['mean_r.value'])"
   ]
  },
  {
   "cell_type": "markdown",
   "metadata": {},
   "source": [
    "#### F-stat example"
   ]
  },
  {
   "cell_type": "code",
   "execution_count": null,
   "metadata": {},
   "outputs": [],
   "source": [
    "inputs_, vi.value, xij, yrj, yro"
   ]
  },
  {
   "cell_type": "code",
   "execution_count": null,
   "metadata": {},
   "outputs": [],
   "source": [
    "from scipy.stats import chisquare\n",
    "chisquare(np.random.normal(0.1,0.4,100), \n",
    "      f_exp=[np.ones(100), \n",
    "        np.ones(100)*1.01, np.ones(100)*1.02, np.ones(100)*1.03, \n",
    "        np.ones(100)*1.04, np.ones(100)*1.05, np.ones(100)*1.06, np.ones(100)*1.07], axis=1)"
   ]
  }
 ],
 "metadata": {
  "kernelspec": {
   "display_name": "Python 3",
   "language": "python",
   "name": "python3"
  },
  "language_info": {
   "codemirror_mode": {
    "name": "ipython",
    "version": 3
   },
   "file_extension": ".py",
   "mimetype": "text/x-python",
   "name": "python",
   "nbconvert_exporter": "python",
   "pygments_lexer": "ipython3",
   "version": "3.6.9"
  }
 },
 "nbformat": 4,
 "nbformat_minor": 4
}
