{
 "cells": [
  {
   "cell_type": "code",
   "execution_count": 3,
   "metadata": {},
   "outputs": [
    {
     "name": "stdout",
     "output_type": "stream",
     "text": [
      "Overwriting execute.py\n"
     ]
    }
   ],
   "source": [
    "%%writefile execute.py\n",
    "\n",
    "import numpy as np\n",
    "from copy import copy\n",
    "import cvxpy as cvx\n",
    "from sklearn.decomposition import PCA\n",
    "from sklearn.preprocessing import MinMaxScaler\n",
    "from tqdm import tqdm\n",
    "import imageio\n",
    "from sklearn.svm import SVR, LinearSVR\n",
    "from sklearn.model_selection import GridSearchCV\n",
    "import pandas as pd\n",
    "import seaborn\n",
    "import scipy\n",
    "from sklearn.metrics import mean_squared_error\n",
    "from sklearn.preprocessing import MinMaxScaler"
   ]
  },
  {
   "cell_type": "code",
   "execution_count": null,
   "metadata": {},
   "outputs": [],
   "source": [
    "%%writefile -a execute.py\n",
    "\n",
    "if __name__ == \"__main__\":\n",
    "\n",
    "    np.random.seed(10)\n",
    "    large_df = pd.DataFrame(columns=['problem_value', 'mean_r.value'])\n",
    "    # f-statistic\n",
    "    # fstat = np.random.uniform(1,100,(144,4))\n",
    "    # cov = np.random.uniform(1,100,(10,4))\n",
    "    inputs_ = np.random.normal(1,20,200)\n",
    "    inputs = inputs_.copy()\n",
    "    corr, corr2 = pd.DataFrame(np.random.uniform(1,100,(200,100))), pd.DataFrame(np.random.uniform(1,100,(288,100)))\n",
    "    # chi-squared\n",
    "    # corr, corr2 = None, None\n",
    "    # corr, corr2 = pd.DataFrame(np.random.uniform(1,3,(144,144))), pd.DataFrame(np.random.uniform(1,3,(144,144)))\n",
    "    # mahalanobis\n",
    "    # corr, corr2 = pd.DataFrame(np.random.uniform(1,100,(144,144))), pd.DataFrame(np.random.uniform(1,100,(144,144)))\n",
    "    # input_index = corr2.index.astype(np.int64).values\n",
    "    # f-statistic\n",
    "    yrj = np.matmul(corr2.T.corr('spearman').replace(np.nan, 0).values,corr2.values) # 144 x 4\n",
    "    # chi-squared\n",
    "    # yrj = corr.values * corr2.values # 144 x 144\n",
    "    # mahalanobis\n",
    "    # yrj = np.sqrt(np.square(np.matmul(corr.T.values,np.linalg.inv(np.cov(corr2.T.values)), corr.values))) # 144 x 144\n",
    "    mean_r = cvx.Variable((corr2.values.shape[0],100))\n",
    "    yro = corr2.values\n",
    "    xio = inputs\n",
    "    xij = np.random.normal(1,100,(200,100))\n",
    "    vi = cvx.Variable((inputs.shape[0],1))\n",
    "    objective = cvx.Minimize(cvx.sum(cvx.matmul(mean_r.T, yro)))\n",
    "    constraints = [(cvx.sum(cvx.matmul(xij.T,vi).T)-cvx.sum(cvx.matmul(mean_r.T, yrj))) <= 0,\n",
    "                   mean_r >= 0,cvx.matmul(vi.T, xio)==1]\n",
    "    problem = cvx.Problem(objective, constraints)\n",
    "    problem.solve(verbose=True, solver=cvx.SCS, max_iters=1000)\n",
    "    df = pd.DataFrame(mean_r.value, columns=np.arange(mean_r.value.shape[1]))\n",
    "    df['problem_value'] = [problem.value]*mean_r.value.shape[0]\n",
    "    # df['corr2_index'] = input_index\n",
    "    large_df = pd.concat([large_df,df], axis=0)\n",
    "    large_df = large_df.reset_index()\n",
    "\n",
    "    # seaborn.distplot(inputs_)\n",
    "\n",
    "    ## f statistical value\n",
    "\n",
    "    f_value = 0.0\n",
    "    between_group = 4 * ((yro.mean(axis=0) - yro.mean())**2).sum() * 4 / 3\n",
    "    within_group = xio.var(axis=0).sum() * 10/(10-1)\n",
    "    f_value = between_group / within_group\n",
    "    print(\"f_value: \", f_value)"
   ]
  },
  {
   "cell_type": "code",
   "execution_count": null,
   "metadata": {},
   "outputs": [],
   "source": [
    "import visvis"
   ]
  },
  {
   "cell_type": "code",
   "execution_count": null,
   "metadata": {},
   "outputs": [],
   "source": [
    "seaborn.distplot(vi.value)"
   ]
  },
  {
   "cell_type": "code",
   "execution_count": null,
   "metadata": {},
   "outputs": [],
   "source": [
    "f_value = 0.0\n",
    "between_group = 4 * ((yro.mean(axis=0) - yro.mean())**2).sum() * 4 / 3\n",
    "within_group = xio.var(axis=0).sum() * 10/(10-1)\n",
    "f_value = between_group / within_group\n",
    "import matplotlib.pyplot as plt\n",
    "plt.title(\"f_value: \" + str(f_value))\n",
    "seaborn.distplot(large_df['mean_r.value'])"
   ]
  },
  {
   "cell_type": "code",
   "execution_count": null,
   "metadata": {},
   "outputs": [],
   "source": [
    "# alternative hypothesis saying it is dependent between input and DMU (s)\n",
    "chi_value = 0.0\n",
    "observed = xio.reshape(-1,1)\n",
    "expected = xij\n",
    "chi_value = ((observed - expected)**2 / expected).sum() * 1 / 4\n",
    "import matplotlib.pyplot as plt\n",
    "plt.title(\"chi_value: \" + str(chi_value))\n",
    "seaborn.distplot(large_df['mean_r.value'])"
   ]
  },
  {
   "cell_type": "code",
   "execution_count": null,
   "metadata": {},
   "outputs": [],
   "source": [
    "t_score = (yro.mean() - xio.mean()) / (yro.std()*144/143)\n",
    "import matplotlib.pyplot as plt\n",
    "plt.title(\"t_score: \" + str(t_score))\n",
    "seaborn.distplot(large_df['mean_r.value'])"
   ]
  },
  {
   "cell_type": "code",
   "execution_count": null,
   "metadata": {},
   "outputs": [],
   "source": [
    "f_value = 0.0\n",
    "between_group = 4 * ((yro.mean(axis=0) - yro.mean())**2).sum() * 4 / 3\n",
    "within_group = xio.var(axis=0).sum() * 10/(10-1)\n",
    "f_value = between_group / within_group\n",
    "import matplotlib.pyplot as plt\n",
    "plt.title(\"f_value: \" + str(f_value))\n",
    "seaborn.distplot(large_df['mean_r.value'])"
   ]
  },
  {
   "cell_type": "code",
   "execution_count": null,
   "metadata": {},
   "outputs": [],
   "source": [
    "# alternative hypothesis saying it is dependent between input and DMU (s)\n",
    "chi_value = 0.0\n",
    "observed = xio.reshape(-1,1)\n",
    "expected = xij\n",
    "chi_value = ((observed - expected)**2 / expected).sum() * 1 / 4\n",
    "import matplotlib.pyplot as plt\n",
    "plt.title(\"chi_value: \" + str(chi_value))\n",
    "seaborn.distplot(large_df['mean_r.value'])"
   ]
  },
  {
   "cell_type": "markdown",
   "metadata": {},
   "source": [
    "#### F-stat example"
   ]
  },
  {
   "cell_type": "code",
   "execution_count": null,
   "metadata": {},
   "outputs": [],
   "source": [
    "inputs_, vi.value, xij, yrj, yro"
   ]
  },
  {
   "cell_type": "code",
   "execution_count": null,
   "metadata": {},
   "outputs": [],
   "source": [
    "from scipy.stats import chisquare\n",
    "chisquare(np.random.normal(0.1,0.4,100), \n",
    "      f_exp=[np.ones(100), \n",
    "        np.ones(100)*1.01, np.ones(100)*1.02, np.ones(100)*1.03, \n",
    "        np.ones(100)*1.04, np.ones(100)*1.05, np.ones(100)*1.06, np.ones(100)*1.07], axis=1)"
   ]
  }
 ],
 "metadata": {
  "kernelspec": {
   "display_name": "Python 3",
   "language": "python",
   "name": "python3"
  },
  "language_info": {
   "codemirror_mode": {
    "name": "ipython",
    "version": 3
   },
   "file_extension": ".py",
   "mimetype": "text/x-python",
   "name": "python",
   "nbconvert_exporter": "python",
   "pygments_lexer": "ipython3",
   "version": "3.8.3"
  }
 },
 "nbformat": 4,
 "nbformat_minor": 4
}
